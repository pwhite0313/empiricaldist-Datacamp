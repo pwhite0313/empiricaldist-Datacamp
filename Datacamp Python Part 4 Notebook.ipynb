{
 "cells": [
  {
   "cell_type": "markdown",
   "id": "acc2e803",
   "metadata": {},
   "source": [
    "## Datacamp: Exploratory Data Analysis in Python Notebook\n",
    "\n",
    "### Part 4 Notebook: Multivariate Thinking"
   ]
  },
  {
   "cell_type": "code",
   "execution_count": 5,
   "id": "da7c51dc",
   "metadata": {},
   "outputs": [],
   "source": [
    "import pandas as pd\n",
    "import numpy as np\n",
    "import matplotlib.pyplot as plt\n",
    "import seaborn as sns\n",
    "import statsmodels.formula.api as smf\n",
    "\n",
    "%matplotlib inline"
   ]
  },
  {
   "cell_type": "markdown",
   "id": "9f128bbd",
   "metadata": {},
   "source": [
    "## Multiple Regression:"
   ]
  },
  {
   "cell_type": "code",
   "execution_count": 7,
   "id": "4f76a306",
   "metadata": {},
   "outputs": [
    {
     "data": {
      "text/plain": [
       "Intercept    5.450700\n",
       "_VEGESU1     0.204935\n",
       "dtype: float64"
      ]
     },
     "execution_count": 7,
     "metadata": {},
     "output_type": "execute_result"
    }
   ],
   "source": [
    "brfss = pd.read_hdf('Data/brfss.hdf5', 'brfss')\n",
    "\n",
    "results = smf.ols('INCOME2 ~ _VEGESU1', data=brfss).fit()\n",
    "results.params"
   ]
  },
  {
   "cell_type": "code",
   "execution_count": 8,
   "id": "c0e2e718",
   "metadata": {},
   "outputs": [
    {
     "name": "stdout",
     "output_type": "stream",
     "text": [
      "LinregressResult(slope=0.06988048092105248, intercept=1.5287786243362973, rvalue=0.11967005884864361, pvalue=1.3785039162157718e-238, stderr=0.002110976356332355, intercept_stderr=0.01319646754409372)\n",
      "Intercept    1.528779\n",
      "INCOME2      0.069880\n",
      "dtype: float64\n"
     ]
    }
   ],
   "source": [
    "from scipy.stats import linregress\n",
    "import statsmodels.formula.api as smf\n",
    "\n",
    "# Run regression with linregress\n",
    "subset = brfss.dropna(subset=['INCOME2', '_VEGESU1'])\n",
    "xs = subset['INCOME2']\n",
    "ys = subset['_VEGESU1']\n",
    "res = linregress(xs,ys)\n",
    "print(res)\n",
    "\n",
    "# Run regression with StatsModels\n",
    "results = smf.ols('_VEGESU1 ~ INCOME2', data = brfss).fit()\n",
    "print(results.params)"
   ]
  },
  {
   "cell_type": "code",
   "execution_count": 13,
   "id": "bc123c90",
   "metadata": {},
   "outputs": [
    {
     "name": "stdout",
     "output_type": "stream",
     "text": [
      "Intercept   -11539.147837\n",
      "educ          3586.523659\n",
      "dtype: float64\n",
      "Intercept   -16117.275684\n",
      "educ          3655.166921\n",
      "age             83.731804\n",
      "dtype: float64\n"
     ]
    }
   ],
   "source": [
    "# Income and education\n",
    "gss = pd.read_hdf('Data/gss.hdf5', 'gss')\n",
    "\n",
    "results = smf.ols('realinc ~ educ', data = gss).fit()\n",
    "print(results.params)\n",
    "\n",
    "# Add Age\n",
    "results = smf.ols('realinc ~ educ + age', data = gss).fit()\n",
    "print(results.params)"
   ]
  },
  {
   "cell_type": "code",
   "execution_count": 19,
   "id": "73317c67",
   "metadata": {},
   "outputs": [],
   "source": [
    "# Futher explore income and age using groupby\n",
    "\n",
    "grouped = gss.groupby('age')\n",
    "mean_income_by_age = grouped['realinc'].mean()"
   ]
  },
  {
   "cell_type": "code",
   "execution_count": 20,
   "id": "70657c82",
   "metadata": {},
   "outputs": [
    {
     "data": {
      "text/plain": [
       "Text(0, 0.5, 'Income (1986 $)')"
      ]
     },
     "execution_count": 20,
     "metadata": {},
     "output_type": "execute_result"
    },
    {
     "data": {
      "image/png": "[encoded data removed]",
      "text/plain": [
       "<Figure size 432x288 with 1 Axes>"
      ]
     },
     "metadata": {
      "needs_background": "light"
     },
     "output_type": "display_data"
    }
   ],
   "source": [
    "# Plot income by age group\n",
    "\n",
    "plt.plot(mean_income_by_age, 'o', alpha=0.5)\n",
    "plt.xlabel('Age (years)')\n",
    "plt.ylabel('Income (1986 $)')"
   ]
  },
  {
   "cell_type": "code",
   "execution_count": 21,
   "id": "4a9d5d99",
   "metadata": {},
   "outputs": [
    {
     "name": "stdout",
     "output_type": "stream",
     "text": [
      "Intercept   -48058.679679\n",
      "educ          3442.447178\n",
      "age           1748.232631\n",
      "age2           -17.437552\n",
      "dtype: float64\n"
     ]
    }
   ],
   "source": [
    "# Add quadratic term that has non-linear relationship\n",
    "\n",
    "gss['age2'] = gss['age']**2\n",
    "\n",
    "model = smf.ols('realinc ~ educ + age + age2', data = gss)\n",
    "results = model.fit()\n",
    "print(results.params)"
   ]
  },
  {
   "cell_type": "code",
   "execution_count": null,
   "id": "184efa52",
   "metadata": {},
   "outputs": [],
   "source": [
    "# Group by educ\n",
    "grouped = gss.groupby('educ')\n",
    "\n",
    "# Compute mean income in each group\n",
    "mean_income_by_educ = grouped['realinc'].mean()\n",
    "\n",
    "# Plot mean income as a scatter plot\n",
    "plt.plot(mean_income_by_educ, 'o', alpha=.5)\n",
    "\n",
    "# Label the axes\n",
    "plt.xlabel('Education (years)')\n",
    "plt.ylabel('Income (1986 $)')\n",
    "plt.show()"
   ]
  },
  {
   "cell_type": "code",
   "execution_count": 22,
   "id": "0be91df7",
   "metadata": {},
   "outputs": [
    {
     "name": "stdout",
     "output_type": "stream",
     "text": [
      "Intercept   -23241.884034\n",
      "educ          -528.309369\n",
      "educ2          159.966740\n",
      "age           1696.717149\n",
      "age2           -17.196984\n",
      "dtype: float64\n"
     ]
    }
   ],
   "source": [
    "import statsmodels.formula.api as smf\n",
    "\n",
    "# Add a new column with educ squared\n",
    "gss['educ2'] = gss['educ']**2\n",
    "\n",
    "# Run a regression model with educ, educ2, age, and age2\n",
    "results = smf.ols('realinc ~ educ + educ2 + age + age2', data=gss).fit()\n",
    "\n",
    "# Print the estimated parameters\n",
    "print(results.params)"
   ]
  },
  {
   "cell_type": "markdown",
   "id": "fa5c0e8e",
   "metadata": {},
   "source": [
    "### Predictions"
   ]
  },
  {
   "cell_type": "code",
   "execution_count": 27,
   "id": "95cf0df4",
   "metadata": {},
   "outputs": [
    {
     "data": {
      "image/png": "[encoded data removed]",
      "text/plain": [
       "<Figure size 432x288 with 1 Axes>"
      ]
     },
     "metadata": {
      "needs_background": "light"
     },
     "output_type": "display_data"
    }
   ],
   "source": [
    "# Create DF and assign values\n",
    "\n",
    "df = pd.DataFrame()\n",
    "df['age'] = np.linspace(18,85)\n",
    "df['age2'] = df['age']**2\n",
    "\n",
    "df['educ'] = 12\n",
    "df['educ2'] = df['educ']**2\n",
    "\n",
    "# Results predict function\n",
    "pred12 = results.predict(df)\n",
    "\n",
    "#Plot predictions by age\n",
    "plt.plot(df['age'], pred12, label='High School')\n",
    "plt.plot(mean_income_by_age, 'o', alpha=.5)  #Variable from previous excercise\n",
    "plt.xlabel('Education (years)')\n",
    "plt.ylabel('Income (1986 $)')\n",
    "plt.legend()\n",
    "plt.show()"
   ]
  },
  {
   "cell_type": "code",
   "execution_count": 30,
   "id": "194a2715",
   "metadata": {},
   "outputs": [
    {
     "name": "stdout",
     "output_type": "stream",
     "text": [
      "0    12182.344976\n",
      "1    11993.358518\n",
      "2    11857.672098\n",
      "3    11775.285717\n",
      "4    11746.199374\n",
      "dtype: float64\n"
     ]
    }
   ],
   "source": [
    "# Run a regression model with educ, educ2, age, and age2\n",
    "results = smf.ols('realinc ~ educ + educ2 + age + age2', data=gss).fit()\n",
    "\n",
    "# Make the DataFrame\n",
    "df = pd.DataFrame()\n",
    "df['educ'] = np.linspace(0,20)\n",
    "df['age'] = 30\n",
    "df['educ2'] = df['educ']**2\n",
    "df['age2'] = df['age']**2\n",
    "\n",
    "# Generate and plot the predictions\n",
    "pred = results.predict(df)\n",
    "print(pred.head())"
   ]
  },
  {
   "cell_type": "code",
   "execution_count": 31,
   "id": "b301882b",
   "metadata": {},
   "outputs": [
    {
     "data": {
      "image/png": "[encoded data removed]",
      "text/plain": [
       "<Figure size 432x288 with 1 Axes>"
      ]
     },
     "metadata": {
      "needs_background": "light"
     },
     "output_type": "display_data"
    }
   ],
   "source": [
    "# Plot mean income in each age group\n",
    "plt.clf()\n",
    "grouped = gss.groupby('educ')\n",
    "mean_income_by_educ = grouped['realinc'].mean()\n",
    "plt.plot(mean_income_by_educ, 'o', alpha=0.5)\n",
    "\n",
    "# Plot the predictions\n",
    "pred = results.predict(df)\n",
    "plt.plot(df['educ'], pred, label='Age 30')\n",
    "\n",
    "# Label axes\n",
    "plt.xlabel('Education (years)')\n",
    "plt.ylabel('Income (1986 $)')\n",
    "plt.legend()\n",
    "plt.show()"
   ]
  },
  {
   "cell_type": "markdown",
   "id": "9de21e30",
   "metadata": {},
   "source": [
    "## Logistic Regression:"
   ]
  },
  {
   "cell_type": "code",
   "execution_count": 33,
   "id": "2a3d4773",
   "metadata": {},
   "outputs": [
    {
     "name": "stdout",
     "output_type": "stream",
     "text": [
      "Intercept     -22369.453641\n",
      "C(sex)[T.2]    -4156.113865\n",
      "educ            -310.247419\n",
      "educ2            150.514091\n",
      "age             1703.047502\n",
      "age2             -17.238711\n",
      "dtype: float64\n"
     ]
    }
   ],
   "source": [
    "# Using Sex as constant variable\n",
    "formula = 'realinc ~ educ + educ2 + age + age2 + C(sex)'\n",
    "\n",
    "results = smf.ols(formula, data=gss).fit()\n",
    "\n",
    "# Print the estimated parameters\n",
    "print(results.params)"
   ]
  },
  {
   "cell_type": "code",
   "execution_count": 41,
   "id": "bb677b42",
   "metadata": {},
   "outputs": [
    {
     "name": "stdout",
     "output_type": "stream",
     "text": [
      "Optimization terminated successfully.\n",
      "         Current function value: 0.533674\n",
      "         Iterations 6\n"
     ]
    },
    {
     "data": {
      "text/plain": [
       "Intercept      1.653862\n",
       "C(sex)[T.2]    0.757249\n",
       "age           -0.018849\n",
       "age2           0.000189\n",
       "educ          -0.124373\n",
       "educ2          0.006653\n",
       "dtype: float64"
      ]
     },
     "execution_count": 41,
     "metadata": {},
     "output_type": "execute_result"
    }
   ],
   "source": [
    "#Question GSS survey: \"Would you favor or oppose a law which would require a person to obtain a police permit before he or she could buy a gun?\"\n",
    "# 1 = \"favor\", 2 = \"oppose\"\n",
    "\n",
    "#This survey question is not asking the question correctly. The question posed is do you \"support or oppose\"--This is not a 'yes' or 'no' question\n",
    "#A much simpler question would be to only ask if they favor the law, or if they oppose it. Or simply have the answers 'favor', and 'oppose'.\n",
    "\n",
    "gss['gunlaw'].value_counts()\n",
    "\n",
    "#replace results\n",
    "gss['gunlaw'].replace([2], [0], inplace=True)\n",
    "gss['gunlaw'].value_counts()\n",
    "\n",
    "#Logistic regression\n",
    "formula = 'gunlaw ~ age + age2 + educ + educ2 + C(sex)'\n",
    "results = smf.logit(formula, data=gss).fit()\n",
    "results.params"
   ]
  },
  {
   "cell_type": "code",
   "execution_count": 46,
   "id": "25d16976",
   "metadata": {},
   "outputs": [
    {
     "data": {
      "image/png": "[encoded data removed]",
      "text/plain": [
       "<Figure size 432x288 with 1 Axes>"
      ]
     },
     "metadata": {
      "needs_background": "light"
     },
     "output_type": "display_data"
    }
   ],
   "source": [
    "# Generate predictions\n",
    "\n",
    "# Create DF and assign values\n",
    "df = pd.DataFrame()\n",
    "df['age'] = np.linspace(18,85)\n",
    "df['educ'] = 12\n",
    "\n",
    "df['age2'] = df['age']**2\n",
    "df['educ2'] = df['educ']**2\n",
    "\n",
    "#Define men as 1, women as 2 and predict for sex\n",
    "df['sex'] = 1\n",
    "pred1 = results.predict(df)\n",
    "\n",
    "df['sex'] = 2\n",
    "pred2 = results.predict(df)\n",
    "\n",
    "# Plot predictions as funtion of age\n",
    "grouped = gss.groupby('age')\n",
    "favor_by_age = grouped['gunlaw'].mean()\n",
    "\n",
    "plt.plot(favor_by_age, 'o', alpha=0.5)\n",
    "\n",
    "plt.plot(df['age'], pred1, label='Male')\n",
    "plt.plot(df['age'], pred2, label='Female')\n",
    "\n",
    "\n",
    "\n",
    "\n",
    "\n",
    "plt.xlabel('Age')\n",
    "plt.ylabel('Probability of favoring gun law')\n",
    "plt.legend()\n",
    "plt.show()"
   ]
  },
  {
   "cell_type": "code",
   "execution_count": 47,
   "id": "781e9316",
   "metadata": {},
   "outputs": [
    {
     "name": "stdout",
     "output_type": "stream",
     "text": [
      "Optimization terminated successfully.\n",
      "         Current function value: 0.588510\n",
      "         Iterations 6\n"
     ]
    },
    {
     "data": {
      "image/png": "[encoded data removed]",
      "text/plain": [
       "<Figure size 432x288 with 1 Axes>"
      ]
     },
     "metadata": {
      "needs_background": "light"
     },
     "output_type": "display_data"
    }
   ],
   "source": [
    "# Final Exercise: Exploring the factors that predict support for legalizing marijuana.\n",
    "\n",
    "# Recode 'grass'\n",
    "gss['grass'].replace(2, 0, inplace=True)\n",
    "\n",
    "# Run logistic regression\n",
    "results = smf.logit('grass ~ age + age2 + educ + educ2 + C(sex)', data=gss).fit()\n",
    "results.params\n",
    "\n",
    "# Make a DataFrame with a range of ages\n",
    "df = pd.DataFrame()\n",
    "df['age'] = np.linspace(18, 89)\n",
    "df['age2'] = df['age']**2\n",
    "\n",
    "# Set the education level to 12\n",
    "df['educ'] = 12\n",
    "df['educ2'] = df['educ']**2\n",
    "\n",
    "# Generate predictions for men and women\n",
    "df['sex'] = 1\n",
    "pred1 = results.predict(df)\n",
    "\n",
    "df['sex'] = 2\n",
    "pred2 = results.predict(df)\n",
    "\n",
    "plt.clf()\n",
    "grouped = gss.groupby('age')\n",
    "favor_by_age = grouped['grass'].mean()\n",
    "plt.plot(favor_by_age, 'o', alpha=0.5)\n",
    "\n",
    "plt.plot(df['age'], pred1, label='Male')\n",
    "plt.plot(df['age'], pred2, label='Female')\n",
    "\n",
    "plt.xlabel('Age')\n",
    "plt.ylabel('Probability of favoring legalization')\n",
    "plt.legend()\n",
    "plt.show()"
   ]
  }
 ],
 "metadata": {
  "kernelspec": {
   "display_name": "Python 3 (ipykernel)",
   "language": "python",
   "name": "python3"
  },
  "language_info": {
   "codemirror_mode": {
    "name": "ipython",
    "version": 3
   },
   "file_extension": ".py",
   "mimetype": "text/x-python",
   "name": "python",
   "nbconvert_exporter": "python",
   "pygments_lexer": "ipython3",
   "version": "3.9.7"
  }
 },
 "nbformat": 4,
 "nbformat_minor": 5
}
